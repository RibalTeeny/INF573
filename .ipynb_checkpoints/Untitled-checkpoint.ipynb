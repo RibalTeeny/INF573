{
 "cells": [
  {
   "cell_type": "markdown",
   "id": "94329186",
   "metadata": {},
   "source": [
    "#### Import libraries"
   ]
  },
  {
   "cell_type": "code",
   "execution_count": 55,
   "id": "5ce11bb0",
   "metadata": {},
   "outputs": [],
   "source": [
    "import cv2\n",
    "import numpy as np"
   ]
  },
  {
   "cell_type": "markdown",
   "id": "43f967a6",
   "metadata": {},
   "source": [
    "#### Load test image"
   ]
  },
  {
   "cell_type": "code",
   "execution_count": 56,
   "id": "7eb7d64c",
   "metadata": {},
   "outputs": [],
   "source": [
    "# Load the input image\n",
    "image = cv2.imread(\"Test_L.jpg\")"
   ]
  },
  {
   "cell_type": "markdown",
   "id": "d4b8710f",
   "metadata": {},
   "source": [
    "#### Preprocess image"
   ]
  },
  {
   "cell_type": "code",
   "execution_count": 57,
   "id": "07022f0c",
   "metadata": {},
   "outputs": [],
   "source": [
    "# Convert the image to grayscale\n",
    "gray_image = cv2.cvtColor(image, cv2.COLOR_BGR2GRAY)\n",
    "\n",
    "# Blur the image to reduce noise\n",
    "blurred_image = cv2.GaussianBlur(gray_image, (5,5), 0)\n",
    "\n",
    "# Perform edge detection on the blurred image\n",
    "edge_detected_image = cv2.Canny(blurred_image, 50, 150)\n",
    "\n",
    "# Find contours in the edge detected image\n",
    "contours, _ = cv2.findContours(edge_detected_image, cv2.RETR_EXTERNAL, cv2.CHAIN_APPROX_SIMPLE)"
   ]
  },
  {
   "cell_type": "markdown",
   "id": "605d08a4",
   "metadata": {},
   "source": [
    "#### Visualize"
   ]
  },
  {
   "cell_type": "code",
   "execution_count": 54,
   "id": "795bd53a",
   "metadata": {},
   "outputs": [],
   "source": [
    "# Iterate over the contours and draw them on the original image\n",
    "for contour in contours:\n",
    "    cv2.drawContours(image, contour, -1, (0,255,0), 3)\n",
    "\n",
    "# Show the original image with the contours overlaid\n",
    "cv2.imshow(\"Sign Language Detection\", image)\n",
    "cv2.waitKey(0)\n",
    "cv2.destroyAllWindows()"
   ]
  },
  {
   "cell_type": "code",
   "execution_count": 46,
   "id": "056a877f",
   "metadata": {},
   "outputs": [
    {
     "data": {
      "text/plain": [
       "8"
      ]
     },
     "execution_count": 46,
     "metadata": {},
     "output_type": "execute_result"
    }
   ],
   "source": [
    "len(contours)"
   ]
  },
  {
   "cell_type": "code",
   "execution_count": 58,
   "id": "747b0594",
   "metadata": {},
   "outputs": [
    {
     "name": "stdout",
     "output_type": "stream",
     "text": [
      "(47, 1, 2)\n",
      "(10, 1, 2)\n",
      "(39, 1, 2)\n",
      "(26, 1, 2)\n",
      "(238, 1, 2)\n",
      "(80, 1, 2)\n",
      "(119, 1, 2)\n",
      "(521, 1, 2)\n"
     ]
    }
   ],
   "source": [
    "for c in contours:\n",
    "    print(c.shape)"
   ]
  },
  {
   "cell_type": "code",
   "execution_count": null,
   "id": "f374323d",
   "metadata": {},
   "outputs": [],
   "source": []
  }
 ],
 "metadata": {
  "kernelspec": {
   "display_name": "Python 3 (ipykernel)",
   "language": "python",
   "name": "python3"
  },
  "language_info": {
   "codemirror_mode": {
    "name": "ipython",
    "version": 3
   },
   "file_extension": ".py",
   "mimetype": "text/x-python",
   "name": "python",
   "nbconvert_exporter": "python",
   "pygments_lexer": "ipython3",
   "version": "3.8.15"
  }
 },
 "nbformat": 4,
 "nbformat_minor": 5
}
